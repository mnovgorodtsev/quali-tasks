{
 "cells": [
  {
   "cell_type": "code",
   "execution_count": 77,
   "id": "bab33b9f-aea1-4fad-bff3-c7335f706d0e",
   "metadata": {
    "tags": []
   },
   "outputs": [],
   "source": [
    "import pandas as pd\n",
    "import numpy as np"
   ]
  },
  {
   "cell_type": "code",
   "execution_count": 78,
   "id": "f57347a3-55e8-4b4f-9294-d27ad20718ee",
   "metadata": {
    "tags": []
   },
   "outputs": [],
   "source": [
    "data=pd.read_csv('data.csv', delimiter=';')\n",
    "prices=pd.read_csv('prices.csv', delimiter=';')\n",
    "quantity=pd.read_csv('quantity.csv', delimiter=';')\n",
    "sample_supplier=pd.read_csv('sample_supplier.csv', delimiter=';')"
   ]
  },
  {
   "cell_type": "code",
   "execution_count": 79,
   "id": "864f72e9-6625-41ad-84db-e5adb724db4b",
   "metadata": {
    "tags": []
   },
   "outputs": [
    {
     "data": {
      "text/html": [
       "<div>\n",
       "<style scoped>\n",
       "    .dataframe tbody tr th:only-of-type {\n",
       "        vertical-align: middle;\n",
       "    }\n",
       "\n",
       "    .dataframe tbody tr th {\n",
       "        vertical-align: top;\n",
       "    }\n",
       "\n",
       "    .dataframe thead th {\n",
       "        text-align: right;\n",
       "    }\n",
       "</style>\n",
       "<table border=\"1\" class=\"dataframe\">\n",
       "  <thead>\n",
       "    <tr style=\"text-align: right;\">\n",
       "      <th></th>\n",
       "      <th>connected_data</th>\n",
       "    </tr>\n",
       "  </thead>\n",
       "  <tbody>\n",
       "    <tr>\n",
       "      <th>0</th>\n",
       "      <td>226 920\\tLINEX</td>\n",
       "    </tr>\n",
       "    <tr>\n",
       "      <th>1</th>\n",
       "      <td>039 042\\tSUNSTAR</td>\n",
       "    </tr>\n",
       "    <tr>\n",
       "      <th>2</th>\n",
       "      <td>039 056\\tSUNSTAR</td>\n",
       "    </tr>\n",
       "    <tr>\n",
       "      <th>3</th>\n",
       "      <td>039 063\\tSUNSTAR</td>\n",
       "    </tr>\n",
       "    <tr>\n",
       "      <th>4</th>\n",
       "      <td>051 893\\tKARCHER</td>\n",
       "    </tr>\n",
       "  </tbody>\n",
       "</table>\n",
       "</div>"
      ],
      "text/plain": [
       "     connected_data\n",
       "0    226 920\\tLINEX\n",
       "1  039 042\\tSUNSTAR\n",
       "2  039 056\\tSUNSTAR\n",
       "3  039 063\\tSUNSTAR\n",
       "4  051 893\\tKARCHER"
      ]
     },
     "execution_count": 79,
     "metadata": {},
     "output_type": "execute_result"
    }
   ],
   "source": [
    "data.head()\n",
    "data.rename(columns = {'part_number\\tmanufacturer':'connected_data'}, inplace = True)\n",
    "prices.rename(columns = {'part_number\\tprice':'connected_data'}, inplace = True)\n",
    "data.head()"
   ]
  },
  {
   "cell_type": "code",
   "execution_count": 80,
   "id": "5498b78a-3db9-482d-b0a8-63601daf840c",
   "metadata": {
    "tags": []
   },
   "outputs": [
    {
     "data": {
      "text/html": [
       "<div>\n",
       "<style scoped>\n",
       "    .dataframe tbody tr th:only-of-type {\n",
       "        vertical-align: middle;\n",
       "    }\n",
       "\n",
       "    .dataframe tbody tr th {\n",
       "        vertical-align: top;\n",
       "    }\n",
       "\n",
       "    .dataframe thead th {\n",
       "        text-align: right;\n",
       "    }\n",
       "</style>\n",
       "<table border=\"1\" class=\"dataframe\">\n",
       "  <thead>\n",
       "    <tr style=\"text-align: right;\">\n",
       "      <th></th>\n",
       "      <th>connected_data</th>\n",
       "    </tr>\n",
       "  </thead>\n",
       "  <tbody>\n",
       "    <tr>\n",
       "      <th>0</th>\n",
       "      <td>000 002\\t54,36</td>\n",
       "    </tr>\n",
       "    <tr>\n",
       "      <th>1</th>\n",
       "      <td>000 004\\t5948,21</td>\n",
       "    </tr>\n",
       "    <tr>\n",
       "      <th>2</th>\n",
       "      <td>000 007\\t15999,74</td>\n",
       "    </tr>\n",
       "    <tr>\n",
       "      <th>3</th>\n",
       "      <td>000 008\\t225,01</td>\n",
       "    </tr>\n",
       "    <tr>\n",
       "      <th>4</th>\n",
       "      <td>000 014\\t8,80</td>\n",
       "    </tr>\n",
       "  </tbody>\n",
       "</table>\n",
       "</div>"
      ],
      "text/plain": [
       "      connected_data\n",
       "0     000 002\\t54,36\n",
       "1   000 004\\t5948,21\n",
       "2  000 007\\t15999,74\n",
       "3    000 008\\t225,01\n",
       "4      000 014\\t8,80"
      ]
     },
     "execution_count": 80,
     "metadata": {},
     "output_type": "execute_result"
    }
   ],
   "source": [
    "prices.head()"
   ]
  },
  {
   "cell_type": "code",
   "execution_count": 81,
   "id": "f23305f1-0d15-4ff9-bf08-c6e80972a52d",
   "metadata": {
    "tags": []
   },
   "outputs": [
    {
     "data": {
      "text/html": [
       "<div>\n",
       "<style scoped>\n",
       "    .dataframe tbody tr th:only-of-type {\n",
       "        vertical-align: middle;\n",
       "    }\n",
       "\n",
       "    .dataframe tbody tr th {\n",
       "        vertical-align: top;\n",
       "    }\n",
       "\n",
       "    .dataframe thead th {\n",
       "        text-align: right;\n",
       "    }\n",
       "</style>\n",
       "<table border=\"1\" class=\"dataframe\">\n",
       "  <thead>\n",
       "    <tr style=\"text-align: right;\">\n",
       "      <th></th>\n",
       "      <th>000 002\\t1</th>\n",
       "    </tr>\n",
       "  </thead>\n",
       "  <tbody>\n",
       "    <tr>\n",
       "      <th>0</th>\n",
       "      <td>000 008\\t1</td>\n",
       "    </tr>\n",
       "    <tr>\n",
       "      <th>1</th>\n",
       "      <td>000 014\\t&gt;10</td>\n",
       "    </tr>\n",
       "    <tr>\n",
       "      <th>2</th>\n",
       "      <td>000 014\\t8</td>\n",
       "    </tr>\n",
       "    <tr>\n",
       "      <th>3</th>\n",
       "      <td>000 014\\t7</td>\n",
       "    </tr>\n",
       "    <tr>\n",
       "      <th>4</th>\n",
       "      <td>000 014\\t&gt;10</td>\n",
       "    </tr>\n",
       "  </tbody>\n",
       "</table>\n",
       "</div>"
      ],
      "text/plain": [
       "     000 002\\t1\n",
       "0    000 008\\t1\n",
       "1  000 014\\t>10\n",
       "2    000 014\\t8\n",
       "3    000 014\\t7\n",
       "4  000 014\\t>10"
      ]
     },
     "execution_count": 81,
     "metadata": {},
     "output_type": "execute_result"
    }
   ],
   "source": [
    "quantity.head()"
   ]
  },
  {
   "cell_type": "code",
   "execution_count": 82,
   "id": "24296a22-d468-4190-be7d-d75344238edf",
   "metadata": {
    "tags": []
   },
   "outputs": [
    {
     "data": {
      "text/html": [
       "<div>\n",
       "<style scoped>\n",
       "    .dataframe tbody tr th:only-of-type {\n",
       "        vertical-align: middle;\n",
       "    }\n",
       "\n",
       "    .dataframe tbody tr th {\n",
       "        vertical-align: top;\n",
       "    }\n",
       "\n",
       "    .dataframe thead th {\n",
       "        text-align: right;\n",
       "    }\n",
       "</style>\n",
       "<table border=\"1\" class=\"dataframe\">\n",
       "  <thead>\n",
       "    <tr style=\"text-align: right;\">\n",
       "      <th></th>\n",
       "      <th>part_number\\tmanufacturer\\tprice</th>\n",
       "    </tr>\n",
       "  </thead>\n",
       "  <tbody>\n",
       "    <tr>\n",
       "      <th>0</th>\n",
       "      <td>226 920\\tLINEX\\t692.93</td>\n",
       "    </tr>\n",
       "    <tr>\n",
       "      <th>1</th>\n",
       "      <td>039 042\\tSUNSTAR\\t531.74</td>\n",
       "    </tr>\n",
       "    <tr>\n",
       "      <th>2</th>\n",
       "      <td>039 056\\tSUNSTAR\\t697.56</td>\n",
       "    </tr>\n",
       "    <tr>\n",
       "      <th>3</th>\n",
       "      <td>039 063\\tSUNSTAR\\t82.75</td>\n",
       "    </tr>\n",
       "    <tr>\n",
       "      <th>4</th>\n",
       "      <td>051 893\\tKARCHER\\t881.6</td>\n",
       "    </tr>\n",
       "  </tbody>\n",
       "</table>\n",
       "</div>"
      ],
      "text/plain": [
       "  part_number\\tmanufacturer\\tprice\n",
       "0           226 920\\tLINEX\\t692.93\n",
       "1         039 042\\tSUNSTAR\\t531.74\n",
       "2         039 056\\tSUNSTAR\\t697.56\n",
       "3          039 063\\tSUNSTAR\\t82.75\n",
       "4          051 893\\tKARCHER\\t881.6"
      ]
     },
     "execution_count": 82,
     "metadata": {},
     "output_type": "execute_result"
    }
   ],
   "source": [
    "sample_supplier.head()"
   ]
  },
  {
   "cell_type": "code",
   "execution_count": 83,
   "id": "4b61bfb6-45e3-42f6-9955-9087470bd2f2",
   "metadata": {
    "tags": []
   },
   "outputs": [
    {
     "data": {
      "text/html": [
       "<div>\n",
       "<style scoped>\n",
       "    .dataframe tbody tr th:only-of-type {\n",
       "        vertical-align: middle;\n",
       "    }\n",
       "\n",
       "    .dataframe tbody tr th {\n",
       "        vertical-align: top;\n",
       "    }\n",
       "\n",
       "    .dataframe thead th {\n",
       "        text-align: right;\n",
       "    }\n",
       "</style>\n",
       "<table border=\"1\" class=\"dataframe\">\n",
       "  <thead>\n",
       "    <tr style=\"text-align: right;\">\n",
       "      <th></th>\n",
       "      <th>part number</th>\n",
       "      <th>manufacturer</th>\n",
       "    </tr>\n",
       "  </thead>\n",
       "  <tbody>\n",
       "    <tr>\n",
       "      <th>0</th>\n",
       "      <td>226 920</td>\n",
       "      <td>LINEX</td>\n",
       "    </tr>\n",
       "    <tr>\n",
       "      <th>1</th>\n",
       "      <td>039 042</td>\n",
       "      <td>SUNSTAR</td>\n",
       "    </tr>\n",
       "    <tr>\n",
       "      <th>2</th>\n",
       "      <td>039 056</td>\n",
       "      <td>SUNSTAR</td>\n",
       "    </tr>\n",
       "    <tr>\n",
       "      <th>3</th>\n",
       "      <td>039 063</td>\n",
       "      <td>SUNSTAR</td>\n",
       "    </tr>\n",
       "    <tr>\n",
       "      <th>4</th>\n",
       "      <td>051 893</td>\n",
       "      <td>KARCHER</td>\n",
       "    </tr>\n",
       "    <tr>\n",
       "      <th>...</th>\n",
       "      <td>...</td>\n",
       "      <td>...</td>\n",
       "    </tr>\n",
       "    <tr>\n",
       "      <th>477561</th>\n",
       "      <td>928 466</td>\n",
       "      <td>KOLBENSCHMIDT</td>\n",
       "    </tr>\n",
       "    <tr>\n",
       "      <th>477562</th>\n",
       "      <td>B13 757</td>\n",
       "      <td>ACI</td>\n",
       "    </tr>\n",
       "    <tr>\n",
       "      <th>477563</th>\n",
       "      <td>B13 788</td>\n",
       "      <td>ACI</td>\n",
       "    </tr>\n",
       "    <tr>\n",
       "      <th>477564</th>\n",
       "      <td>023 109</td>\n",
       "      <td>ZWM CZAJA</td>\n",
       "    </tr>\n",
       "    <tr>\n",
       "      <th>477565</th>\n",
       "      <td>167 240</td>\n",
       "      <td>MAGNETI MARELLI</td>\n",
       "    </tr>\n",
       "  </tbody>\n",
       "</table>\n",
       "<p>477566 rows × 2 columns</p>\n",
       "</div>"
      ],
      "text/plain": [
       "       part number     manufacturer\n",
       "0          226 920            LINEX\n",
       "1          039 042          SUNSTAR\n",
       "2          039 056          SUNSTAR\n",
       "3          039 063          SUNSTAR\n",
       "4          051 893          KARCHER\n",
       "...            ...              ...\n",
       "477561     928 466    KOLBENSCHMIDT\n",
       "477562     B13 757              ACI\n",
       "477563     B13 788              ACI\n",
       "477564     023 109        ZWM CZAJA\n",
       "477565     167 240  MAGNETI MARELLI\n",
       "\n",
       "[477566 rows x 2 columns]"
      ]
     },
     "execution_count": 83,
     "metadata": {},
     "output_type": "execute_result"
    }
   ],
   "source": [
    "data[['part number', 'manufacturer']]=data.connected_data.str.split('\\t', expand=True)\n",
    "data.drop('connected_data', axis=1, inplace=True)\n",
    "data"
   ]
  },
  {
   "cell_type": "code",
   "execution_count": 84,
   "id": "3ae6612b-d647-4a27-bc36-ce8c3097da0c",
   "metadata": {
    "tags": []
   },
   "outputs": [
    {
     "data": {
      "text/html": [
       "<div>\n",
       "<style scoped>\n",
       "    .dataframe tbody tr th:only-of-type {\n",
       "        vertical-align: middle;\n",
       "    }\n",
       "\n",
       "    .dataframe tbody tr th {\n",
       "        vertical-align: top;\n",
       "    }\n",
       "\n",
       "    .dataframe thead th {\n",
       "        text-align: right;\n",
       "    }\n",
       "</style>\n",
       "<table border=\"1\" class=\"dataframe\">\n",
       "  <thead>\n",
       "    <tr style=\"text-align: right;\">\n",
       "      <th></th>\n",
       "      <th>part number</th>\n",
       "      <th>price</th>\n",
       "    </tr>\n",
       "  </thead>\n",
       "  <tbody>\n",
       "    <tr>\n",
       "      <th>0</th>\n",
       "      <td>000 002</td>\n",
       "      <td>54.36</td>\n",
       "    </tr>\n",
       "    <tr>\n",
       "      <th>1</th>\n",
       "      <td>000 004</td>\n",
       "      <td>5948.21</td>\n",
       "    </tr>\n",
       "    <tr>\n",
       "      <th>2</th>\n",
       "      <td>000 007</td>\n",
       "      <td>15999.74</td>\n",
       "    </tr>\n",
       "    <tr>\n",
       "      <th>3</th>\n",
       "      <td>000 008</td>\n",
       "      <td>225.01</td>\n",
       "    </tr>\n",
       "    <tr>\n",
       "      <th>4</th>\n",
       "      <td>000 014</td>\n",
       "      <td>8.80</td>\n",
       "    </tr>\n",
       "    <tr>\n",
       "      <th>...</th>\n",
       "      <td>...</td>\n",
       "      <td>...</td>\n",
       "    </tr>\n",
       "    <tr>\n",
       "      <th>467653</th>\n",
       "      <td>P01 345</td>\n",
       "      <td>254.70</td>\n",
       "    </tr>\n",
       "    <tr>\n",
       "      <th>467654</th>\n",
       "      <td>P01 346</td>\n",
       "      <td>386.67</td>\n",
       "    </tr>\n",
       "    <tr>\n",
       "      <th>467655</th>\n",
       "      <td>P01 347</td>\n",
       "      <td>682.90</td>\n",
       "    </tr>\n",
       "    <tr>\n",
       "      <th>467656</th>\n",
       "      <td>P01 349</td>\n",
       "      <td>61.83</td>\n",
       "    </tr>\n",
       "    <tr>\n",
       "      <th>467657</th>\n",
       "      <td>P01 350</td>\n",
       "      <td>234.06</td>\n",
       "    </tr>\n",
       "  </tbody>\n",
       "</table>\n",
       "<p>467658 rows × 2 columns</p>\n",
       "</div>"
      ],
      "text/plain": [
       "       part number     price\n",
       "0          000 002     54.36\n",
       "1          000 004   5948.21\n",
       "2          000 007  15999.74\n",
       "3          000 008    225.01\n",
       "4          000 014      8.80\n",
       "...            ...       ...\n",
       "467653     P01 345    254.70\n",
       "467654     P01 346    386.67\n",
       "467655     P01 347    682.90\n",
       "467656     P01 349     61.83\n",
       "467657     P01 350    234.06\n",
       "\n",
       "[467658 rows x 2 columns]"
      ]
     },
     "execution_count": 84,
     "metadata": {},
     "output_type": "execute_result"
    }
   ],
   "source": [
    "prices[['part number', 'price']]=prices.connected_data.str.split('\\t', expand=True)\n",
    "prices.drop('connected_data', axis=1, inplace=True)\n",
    "prices['price'] = prices['price'].str.replace(',', '.')\n",
    "prices"
   ]
  },
  {
   "cell_type": "code",
   "execution_count": 85,
   "id": "334b035b-b03e-409a-ae5f-8a2cc7eb292d",
   "metadata": {
    "tags": []
   },
   "outputs": [
    {
     "name": "stderr",
     "output_type": "stream",
     "text": [
      "C:\\Users\\Focus\\AppData\\Local\\Temp\\ipykernel_27948\\776190203.py:2: FutureWarning: The frame.append method is deprecated and will be removed from pandas in a future version. Use pandas.concat instead.\n",
      "  quantity.append(wrong_column_name) #we are doing this to avoid losing data\n"
     ]
    },
    {
     "data": {
      "text/html": [
       "<div>\n",
       "<style scoped>\n",
       "    .dataframe tbody tr th:only-of-type {\n",
       "        vertical-align: middle;\n",
       "    }\n",
       "\n",
       "    .dataframe tbody tr th {\n",
       "        vertical-align: top;\n",
       "    }\n",
       "\n",
       "    .dataframe thead th {\n",
       "        text-align: right;\n",
       "    }\n",
       "</style>\n",
       "<table border=\"1\" class=\"dataframe\">\n",
       "  <thead>\n",
       "    <tr style=\"text-align: right;\">\n",
       "      <th></th>\n",
       "      <th>part number</th>\n",
       "      <th>quantity</th>\n",
       "    </tr>\n",
       "  </thead>\n",
       "  <tbody>\n",
       "    <tr>\n",
       "      <th>0</th>\n",
       "      <td>000 008</td>\n",
       "      <td>1</td>\n",
       "    </tr>\n",
       "    <tr>\n",
       "      <th>1</th>\n",
       "      <td>000 014</td>\n",
       "      <td>10</td>\n",
       "    </tr>\n",
       "    <tr>\n",
       "      <th>2</th>\n",
       "      <td>000 014</td>\n",
       "      <td>8</td>\n",
       "    </tr>\n",
       "    <tr>\n",
       "      <th>3</th>\n",
       "      <td>000 014</td>\n",
       "      <td>7</td>\n",
       "    </tr>\n",
       "    <tr>\n",
       "      <th>4</th>\n",
       "      <td>000 014</td>\n",
       "      <td>10</td>\n",
       "    </tr>\n",
       "  </tbody>\n",
       "</table>\n",
       "</div>"
      ],
      "text/plain": [
       "  part number  quantity\n",
       "0     000 008         1\n",
       "1     000 014        10\n",
       "2     000 014         8\n",
       "3     000 014         7\n",
       "4     000 014        10"
      ]
     },
     "execution_count": 85,
     "metadata": {},
     "output_type": "execute_result"
    }
   ],
   "source": [
    "wrong_column_name = list(quantity.columns.values)\n",
    "quantity.append(wrong_column_name) #we are doing this to avoid losing data\n",
    "quantity.rename(columns = {wrong_column_name[0]:'connected_data'}, inplace = True)\n",
    "quantity[['part number', 'quantity']]=quantity.connected_data.str.split('\\t', expand=True)\n",
    "quantity.drop('connected_data', axis=1, inplace=True)\n",
    "quantity['quantity'] = quantity['quantity'].apply(lambda x: 10 if x == '>10' else int(x))\n",
    "quantity.head()"
   ]
  },
  {
   "cell_type": "code",
   "execution_count": 86,
   "id": "95545b08-05d7-4357-8d53-6ac130e58254",
   "metadata": {
    "tags": []
   },
   "outputs": [
    {
     "data": {
      "text/html": [
       "<div>\n",
       "<style scoped>\n",
       "    .dataframe tbody tr th:only-of-type {\n",
       "        vertical-align: middle;\n",
       "    }\n",
       "\n",
       "    .dataframe tbody tr th {\n",
       "        vertical-align: top;\n",
       "    }\n",
       "\n",
       "    .dataframe thead th {\n",
       "        text-align: right;\n",
       "    }\n",
       "</style>\n",
       "<table border=\"1\" class=\"dataframe\">\n",
       "  <thead>\n",
       "    <tr style=\"text-align: right;\">\n",
       "      <th></th>\n",
       "      <th>part number</th>\n",
       "      <th>manufacturer</th>\n",
       "    </tr>\n",
       "  </thead>\n",
       "  <tbody>\n",
       "    <tr>\n",
       "      <th>0</th>\n",
       "      <td>226 920</td>\n",
       "      <td>LINEX</td>\n",
       "    </tr>\n",
       "    <tr>\n",
       "      <th>1</th>\n",
       "      <td>039 042</td>\n",
       "      <td>SUNSTAR</td>\n",
       "    </tr>\n",
       "    <tr>\n",
       "      <th>2</th>\n",
       "      <td>039 056</td>\n",
       "      <td>SUNSTAR</td>\n",
       "    </tr>\n",
       "    <tr>\n",
       "      <th>3</th>\n",
       "      <td>039 063</td>\n",
       "      <td>SUNSTAR</td>\n",
       "    </tr>\n",
       "    <tr>\n",
       "      <th>4</th>\n",
       "      <td>051 893</td>\n",
       "      <td>KARCHER</td>\n",
       "    </tr>\n",
       "  </tbody>\n",
       "</table>\n",
       "</div>"
      ],
      "text/plain": [
       "  part number manufacturer\n",
       "0     226 920        LINEX\n",
       "1     039 042      SUNSTAR\n",
       "2     039 056      SUNSTAR\n",
       "3     039 063      SUNSTAR\n",
       "4     051 893      KARCHER"
      ]
     },
     "execution_count": 86,
     "metadata": {},
     "output_type": "execute_result"
    }
   ],
   "source": [
    "data.head()"
   ]
  },
  {
   "cell_type": "code",
   "execution_count": 87,
   "id": "0b9e71f1-f2da-4621-8f0e-2248eaed53af",
   "metadata": {
    "tags": []
   },
   "outputs": [
    {
     "data": {
      "text/html": [
       "<div>\n",
       "<style scoped>\n",
       "    .dataframe tbody tr th:only-of-type {\n",
       "        vertical-align: middle;\n",
       "    }\n",
       "\n",
       "    .dataframe tbody tr th {\n",
       "        vertical-align: top;\n",
       "    }\n",
       "\n",
       "    .dataframe thead th {\n",
       "        text-align: right;\n",
       "    }\n",
       "</style>\n",
       "<table border=\"1\" class=\"dataframe\">\n",
       "  <thead>\n",
       "    <tr style=\"text-align: right;\">\n",
       "      <th></th>\n",
       "      <th>part number</th>\n",
       "      <th>price</th>\n",
       "    </tr>\n",
       "  </thead>\n",
       "  <tbody>\n",
       "    <tr>\n",
       "      <th>0</th>\n",
       "      <td>000 002</td>\n",
       "      <td>54.36</td>\n",
       "    </tr>\n",
       "    <tr>\n",
       "      <th>1</th>\n",
       "      <td>000 004</td>\n",
       "      <td>5948.21</td>\n",
       "    </tr>\n",
       "    <tr>\n",
       "      <th>2</th>\n",
       "      <td>000 007</td>\n",
       "      <td>15999.74</td>\n",
       "    </tr>\n",
       "    <tr>\n",
       "      <th>3</th>\n",
       "      <td>000 008</td>\n",
       "      <td>225.01</td>\n",
       "    </tr>\n",
       "    <tr>\n",
       "      <th>4</th>\n",
       "      <td>000 014</td>\n",
       "      <td>8.80</td>\n",
       "    </tr>\n",
       "  </tbody>\n",
       "</table>\n",
       "</div>"
      ],
      "text/plain": [
       "  part number     price\n",
       "0     000 002     54.36\n",
       "1     000 004   5948.21\n",
       "2     000 007  15999.74\n",
       "3     000 008    225.01\n",
       "4     000 014      8.80"
      ]
     },
     "execution_count": 87,
     "metadata": {},
     "output_type": "execute_result"
    }
   ],
   "source": [
    "prices.head()"
   ]
  },
  {
   "cell_type": "code",
   "execution_count": 88,
   "id": "54b21635-d881-4f42-9fe1-0452413ad64e",
   "metadata": {
    "tags": []
   },
   "outputs": [],
   "source": [
    "merged_data=pd.merge(pd.merge(data,prices,on='part number'), quantity,on='part number')"
   ]
  },
  {
   "cell_type": "code",
   "execution_count": 89,
   "id": "bd0c65fd-a2a2-4a39-9a11-28d17f9de830",
   "metadata": {
    "tags": []
   },
   "outputs": [
    {
     "data": {
      "text/html": [
       "<div>\n",
       "<style scoped>\n",
       "    .dataframe tbody tr th:only-of-type {\n",
       "        vertical-align: middle;\n",
       "    }\n",
       "\n",
       "    .dataframe tbody tr th {\n",
       "        vertical-align: top;\n",
       "    }\n",
       "\n",
       "    .dataframe thead th {\n",
       "        text-align: right;\n",
       "    }\n",
       "</style>\n",
       "<table border=\"1\" class=\"dataframe\">\n",
       "  <thead>\n",
       "    <tr style=\"text-align: right;\">\n",
       "      <th></th>\n",
       "      <th>part number</th>\n",
       "      <th>manufacturer</th>\n",
       "      <th>price</th>\n",
       "      <th>quantity</th>\n",
       "    </tr>\n",
       "  </thead>\n",
       "  <tbody>\n",
       "    <tr>\n",
       "      <th>0</th>\n",
       "      <td>226 920</td>\n",
       "      <td>LINEX</td>\n",
       "      <td>28.20</td>\n",
       "      <td>10</td>\n",
       "    </tr>\n",
       "    <tr>\n",
       "      <th>1</th>\n",
       "      <td>226 920</td>\n",
       "      <td>LINEX</td>\n",
       "      <td>28.20</td>\n",
       "      <td>1</td>\n",
       "    </tr>\n",
       "    <tr>\n",
       "      <th>2</th>\n",
       "      <td>226 920</td>\n",
       "      <td>LINEX</td>\n",
       "      <td>28.20</td>\n",
       "      <td>2</td>\n",
       "    </tr>\n",
       "    <tr>\n",
       "      <th>3</th>\n",
       "      <td>226 920</td>\n",
       "      <td>LINEX</td>\n",
       "      <td>28.20</td>\n",
       "      <td>10</td>\n",
       "    </tr>\n",
       "    <tr>\n",
       "      <th>4</th>\n",
       "      <td>039 042</td>\n",
       "      <td>SUNSTAR</td>\n",
       "      <td>50.51</td>\n",
       "      <td>1</td>\n",
       "    </tr>\n",
       "    <tr>\n",
       "      <th>...</th>\n",
       "      <td>...</td>\n",
       "      <td>...</td>\n",
       "      <td>...</td>\n",
       "      <td>...</td>\n",
       "    </tr>\n",
       "    <tr>\n",
       "      <th>1051555</th>\n",
       "      <td>023 109</td>\n",
       "      <td>ZWM CZAJA</td>\n",
       "      <td>5.18</td>\n",
       "      <td>1</td>\n",
       "    </tr>\n",
       "    <tr>\n",
       "      <th>1051556</th>\n",
       "      <td>023 109</td>\n",
       "      <td>ZWM CZAJA</td>\n",
       "      <td>5.18</td>\n",
       "      <td>1</td>\n",
       "    </tr>\n",
       "    <tr>\n",
       "      <th>1051557</th>\n",
       "      <td>023 109</td>\n",
       "      <td>ZWM CZAJA</td>\n",
       "      <td>5.18</td>\n",
       "      <td>1</td>\n",
       "    </tr>\n",
       "    <tr>\n",
       "      <th>1051558</th>\n",
       "      <td>023 109</td>\n",
       "      <td>ZWM CZAJA</td>\n",
       "      <td>5.18</td>\n",
       "      <td>1</td>\n",
       "    </tr>\n",
       "    <tr>\n",
       "      <th>1051559</th>\n",
       "      <td>023 109</td>\n",
       "      <td>ZWM CZAJA</td>\n",
       "      <td>5.18</td>\n",
       "      <td>1</td>\n",
       "    </tr>\n",
       "  </tbody>\n",
       "</table>\n",
       "<p>1051560 rows × 4 columns</p>\n",
       "</div>"
      ],
      "text/plain": [
       "        part number manufacturer  price  quantity\n",
       "0           226 920        LINEX  28.20        10\n",
       "1           226 920        LINEX  28.20         1\n",
       "2           226 920        LINEX  28.20         2\n",
       "3           226 920        LINEX  28.20        10\n",
       "4           039 042      SUNSTAR  50.51         1\n",
       "...             ...          ...    ...       ...\n",
       "1051555     023 109    ZWM CZAJA   5.18         1\n",
       "1051556     023 109    ZWM CZAJA   5.18         1\n",
       "1051557     023 109    ZWM CZAJA   5.18         1\n",
       "1051558     023 109    ZWM CZAJA   5.18         1\n",
       "1051559     023 109    ZWM CZAJA   5.18         1\n",
       "\n",
       "[1051560 rows x 4 columns]"
      ]
     },
     "execution_count": 89,
     "metadata": {},
     "output_type": "execute_result"
    }
   ],
   "source": [
    "merged_data"
   ]
  },
  {
   "cell_type": "code",
   "execution_count": 90,
   "id": "efac9513-df06-42e8-a81d-c3371f52071a",
   "metadata": {
    "tags": []
   },
   "outputs": [],
   "source": [
    "merged_data['price'] = merged_data['price'].astype(float)"
   ]
  },
  {
   "cell_type": "code",
   "execution_count": 91,
   "id": "7a1e21fd-6540-4e9f-9f7c-a149fa9bfaa4",
   "metadata": {
    "tags": []
   },
   "outputs": [
    {
     "name": "stdout",
     "output_type": "stream",
     "text": [
      "part number      object\n",
      "manufacturer     object\n",
      "price           float64\n",
      "quantity          int64\n",
      "dtype: object\n"
     ]
    }
   ],
   "source": [
    "print(merged_data.dtypes)"
   ]
  },
  {
   "cell_type": "code",
   "execution_count": 92,
   "id": "1e40b6a5-697d-4409-a15f-4c71e374e046",
   "metadata": {
    "tags": []
   },
   "outputs": [
    {
     "data": {
      "text/html": [
       "<div>\n",
       "<style scoped>\n",
       "    .dataframe tbody tr th:only-of-type {\n",
       "        vertical-align: middle;\n",
       "    }\n",
       "\n",
       "    .dataframe tbody tr th {\n",
       "        vertical-align: top;\n",
       "    }\n",
       "\n",
       "    .dataframe thead th {\n",
       "        text-align: right;\n",
       "    }\n",
       "</style>\n",
       "<table border=\"1\" class=\"dataframe\">\n",
       "  <thead>\n",
       "    <tr style=\"text-align: right;\">\n",
       "      <th></th>\n",
       "      <th>part number</th>\n",
       "      <th>manufacturer</th>\n",
       "      <th>price</th>\n",
       "      <th>quantity</th>\n",
       "    </tr>\n",
       "  </thead>\n",
       "  <tbody>\n",
       "    <tr>\n",
       "      <th>0</th>\n",
       "      <td>226 920</td>\n",
       "      <td>LINEX</td>\n",
       "      <td>28.20</td>\n",
       "      <td>10</td>\n",
       "    </tr>\n",
       "    <tr>\n",
       "      <th>1</th>\n",
       "      <td>226 920</td>\n",
       "      <td>LINEX</td>\n",
       "      <td>28.20</td>\n",
       "      <td>1</td>\n",
       "    </tr>\n",
       "    <tr>\n",
       "      <th>2</th>\n",
       "      <td>226 920</td>\n",
       "      <td>LINEX</td>\n",
       "      <td>28.20</td>\n",
       "      <td>2</td>\n",
       "    </tr>\n",
       "    <tr>\n",
       "      <th>3</th>\n",
       "      <td>226 920</td>\n",
       "      <td>LINEX</td>\n",
       "      <td>28.20</td>\n",
       "      <td>10</td>\n",
       "    </tr>\n",
       "    <tr>\n",
       "      <th>4</th>\n",
       "      <td>039 042</td>\n",
       "      <td>SUNSTAR</td>\n",
       "      <td>50.51</td>\n",
       "      <td>1</td>\n",
       "    </tr>\n",
       "  </tbody>\n",
       "</table>\n",
       "</div>"
      ],
      "text/plain": [
       "  part number manufacturer  price  quantity\n",
       "0     226 920        LINEX  28.20        10\n",
       "1     226 920        LINEX  28.20         1\n",
       "2     226 920        LINEX  28.20         2\n",
       "3     226 920        LINEX  28.20        10\n",
       "4     039 042      SUNSTAR  50.51         1"
      ]
     },
     "execution_count": 92,
     "metadata": {},
     "output_type": "execute_result"
    }
   ],
   "source": [
    "final_data = merged_data.loc[(merged_data['price'] > 0) | (merged_data['quantity'] > 0)]\n",
    "final_data.dropna()\n",
    "final_data.to_csv('final_data.csv', index=False)\n",
    "final_data.head()"
   ]
  },
  {
   "cell_type": "code",
   "execution_count": 93,
   "id": "a36586c4-ed71-434e-b94a-372affd22e7a",
   "metadata": {
    "tags": []
   },
   "outputs": [
    {
     "data": {
      "text/html": [
       "<div>\n",
       "<style scoped>\n",
       "    .dataframe tbody tr th:only-of-type {\n",
       "        vertical-align: middle;\n",
       "    }\n",
       "\n",
       "    .dataframe tbody tr th {\n",
       "        vertical-align: top;\n",
       "    }\n",
       "\n",
       "    .dataframe thead th {\n",
       "        text-align: right;\n",
       "    }\n",
       "</style>\n",
       "<table border=\"1\" class=\"dataframe\">\n",
       "  <thead>\n",
       "    <tr style=\"text-align: right;\">\n",
       "      <th></th>\n",
       "      <th>Brand name</th>\n",
       "      <th>Product numbers</th>\n",
       "    </tr>\n",
       "  </thead>\n",
       "  <tbody>\n",
       "    <tr>\n",
       "      <th>0</th>\n",
       "      <td>LINEX</td>\n",
       "      <td>0</td>\n",
       "    </tr>\n",
       "    <tr>\n",
       "      <th>1</th>\n",
       "      <td>SUNSTAR</td>\n",
       "      <td>0</td>\n",
       "    </tr>\n",
       "    <tr>\n",
       "      <th>2</th>\n",
       "      <td>EPS</td>\n",
       "      <td>0</td>\n",
       "    </tr>\n",
       "    <tr>\n",
       "      <th>3</th>\n",
       "      <td>RMS</td>\n",
       "      <td>0</td>\n",
       "    </tr>\n",
       "    <tr>\n",
       "      <th>4</th>\n",
       "      <td>OSVAT</td>\n",
       "      <td>0</td>\n",
       "    </tr>\n",
       "  </tbody>\n",
       "</table>\n",
       "</div>"
      ],
      "text/plain": [
       "  Brand name  Product numbers\n",
       "0      LINEX                0\n",
       "1    SUNSTAR                0\n",
       "2        EPS                0\n",
       "3        RMS                0\n",
       "4      OSVAT                0"
      ]
     },
     "execution_count": 93,
     "metadata": {},
     "output_type": "execute_result"
    }
   ],
   "source": [
    "brand_list=final_data['manufacturer'].unique()\n",
    "brand_df = pd.DataFrame({'Brand name': brand_list, 'Product numbers': 0})\n",
    "brand_df.head()"
   ]
  },
  {
   "cell_type": "code",
   "execution_count": 94,
   "id": "17f61b42-1980-4b52-b542-09c4f12d9040",
   "metadata": {
    "tags": []
   },
   "outputs": [],
   "source": [
    "def brands_statistics(final_data, column_name_with_brands):\n",
    "    #'manufacturer'\n",
    "    brand_list=final_data[column_name_with_brands].unique()\n",
    "    brand_df = pd.DataFrame({'Brand name': brand_list, 'Product numbers': 0})\n",
    "    brand_df\n",
    "    \n",
    "    for index, row in brand_df.iterrows():\n",
    "        brand_name = row['Brand name']\n",
    "        test_df = final_data.loc[final_data[column_name_with_brands] == brand_name]\n",
    "        product_numbers = len(test_df)\n",
    "        brand_df.loc[brand_df['Brand name'] == brand_name, 'Product numbers'] = product_numbers\n",
    "        \n",
    "    return(brand_df)"
   ]
  },
  {
   "cell_type": "code",
   "execution_count": null,
   "id": "c1572d95-691b-471a-914f-fdeca9367158",
   "metadata": {
    "tags": []
   },
   "outputs": [],
   "source": [
    "brands_dataframe=brands_statistics(final_data, 'manufacturer')"
   ]
  },
  {
   "cell_type": "code",
   "execution_count": null,
   "id": "d275e2b5-c8f1-4097-a2cc-f49b61d3c785",
   "metadata": {},
   "outputs": [],
   "source": [
    "brands_dataframe.to_csv('brands_df.csv', index=False)"
   ]
  },
  {
   "cell_type": "code",
   "execution_count": null,
   "id": "8146c2ed-02dc-4e67-9bf1-d2d9c2a503d8",
   "metadata": {},
   "outputs": [],
   "source": []
  },
  {
   "cell_type": "code",
   "execution_count": null,
   "id": "8f090237-6ca7-407a-9b93-07ed770f574e",
   "metadata": {},
   "outputs": [],
   "source": []
  },
  {
   "cell_type": "code",
   "execution_count": null,
   "id": "2752129b-684e-45c3-944e-ed5ccca860df",
   "metadata": {},
   "outputs": [],
   "source": []
  },
  {
   "cell_type": "code",
   "execution_count": null,
   "id": "26c358b8-759f-47a5-a9fc-40aead4e50f6",
   "metadata": {},
   "outputs": [],
   "source": []
  },
  {
   "cell_type": "code",
   "execution_count": null,
   "id": "9d72ca60-d6df-448b-873a-132ed45fa525",
   "metadata": {},
   "outputs": [],
   "source": []
  },
  {
   "cell_type": "code",
   "execution_count": null,
   "id": "fb9d0597-6042-4fa7-a936-ff4c79abf05a",
   "metadata": {},
   "outputs": [],
   "source": []
  },
  {
   "cell_type": "code",
   "execution_count": null,
   "id": "f77aac71-18ad-4626-89ea-c6b1f45bbc1c",
   "metadata": {},
   "outputs": [],
   "source": []
  }
 ],
 "metadata": {
  "kernelspec": {
   "display_name": "Python 3 (ipykernel)",
   "language": "python",
   "name": "python3"
  },
  "language_info": {
   "codemirror_mode": {
    "name": "ipython",
    "version": 3
   },
   "file_extension": ".py",
   "mimetype": "text/x-python",
   "name": "python",
   "nbconvert_exporter": "python",
   "pygments_lexer": "ipython3",
   "version": "3.11.3"
  }
 },
 "nbformat": 4,
 "nbformat_minor": 5
}
